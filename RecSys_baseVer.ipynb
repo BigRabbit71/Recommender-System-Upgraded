{
 "cells": [
  {
   "cell_type": "markdown",
   "metadata": {},
   "source": [
    "# Recommender System baseline version\n",
    "## - Based on Collaborative Filter"
   ]
  },
  {
   "cell_type": "code",
   "execution_count": 13,
   "metadata": {},
   "outputs": [],
   "source": [
    "import numpy as np\n",
    "import pandas as pd\n",
    "import matplotlib.pyplot as plt\n",
    "%matplotlib inline\n",
    "from sklearn import model_selection\n",
    "from sklearn.metrics import mean_absolute_error, mean_squared_error"
   ]
  },
  {
   "cell_type": "markdown",
   "metadata": {},
   "source": [
    "### Load ratings.csv"
   ]
  },
  {
   "cell_type": "code",
   "execution_count": 14,
   "metadata": {},
   "outputs": [
    {
     "name": "stdout",
     "output_type": "stream",
     "text": [
      "<class 'pandas.core.frame.DataFrame'>\n",
      "RangeIndex: 100004 entries, 0 to 100003\n",
      "Data columns (total 4 columns):\n",
      "userId       100004 non-null int64\n",
      "movieId      100004 non-null int64\n",
      "rating       100004 non-null float64\n",
      "timestamp    100004 non-null int64\n",
      "dtypes: float64(1), int64(3)\n",
      "memory usage: 3.1 MB\n"
     ]
    }
   ],
   "source": [
    "ratings_df = pd.read_csv('../ml-latest-small/ratings.csv')\n",
    "ratings_df.info()"
   ]
  },
  {
   "cell_type": "markdown",
   "metadata": {},
   "source": [
    "### Get train&test rating matrix"
   ]
  },
  {
   "cell_type": "code",
   "execution_count": 15,
   "metadata": {},
   "outputs": [
    {
     "name": "stdout",
     "output_type": "stream",
     "text": [
      "There are  671 users,  163949 movies.\n"
     ]
    }
   ],
   "source": [
    "train, test = model_selection.train_test_split(ratings_df, test_size=0.25)\n",
    "rating_matrix_train = np.zeros((ratings_df.userId.unique().shape[0], max(ratings_df.movieId)))\n",
    "rating_matrix_test = np.zeros(rating_matrix_train.shape)\n",
    "\n",
    "for row in train.itertuples():\n",
    "    rating_matrix_train[row[1]-1, row[2]-1] = row[3]\n",
    "for row in test.itertuples():\n",
    "    rating_matrix_test[row[1]-1, row[2]-1] = row[3]\n",
    "print 'There are {0: d} users, {1: d} movies.'.format(rating_matrix_train.shape[0], rating_matrix_train.shape[1])"
   ]
  },
  {
   "cell_type": "markdown",
   "metadata": {},
   "source": [
    "### Collaborative Filter Process"
   ]
  },
  {
   "cell_type": "code",
   "execution_count": 16,
   "metadata": {
    "collapsed": true
   },
   "outputs": [],
   "source": [
    "class CF(object):\n",
    "    def get_similarity(self, rating_matrix, based_on='user'):\n",
    "        if based_on == 'user':\n",
    "            similarity = rating_matrix.dot(rating_matrix.T) + 1e-9\n",
    "            similarity /= np.array([np.diagonal(similarity)])\n",
    "        elif based_on == 'item':\n",
    "            print 'Lack of memory...'\n",
    "#             similarity = rating_matrix.T.dot(rating_matrix) + 1e-9\n",
    "#             similarity /= np.array([np.diagonal(similarity)])\n",
    "        return similarity\n",
    "    \n",
    "    def get_prediction(self, rating_matrix, similarity, based_on='user'):\n",
    "        if based_on == 'user':\n",
    "            rating_mean = rating_matrix.sum(axis=1) / (rating_matrix>0).sum(axis=1)\n",
    "            rating_diff = rating_matrix - rating_mean[:, np.newaxis]\n",
    "            prediction = rating_mean[:, np.newaxis] + similarity.dot(rating_diff) / np.array([np.abs(similarity).sum(axis=1)]).T\n",
    "        elif based_on == 'item':\n",
    "            print 'Lack of memory...'\n",
    "#             prediction = rating_matrix.dot(similarity) / np.array([np.abs(similarity).sum(axis=1)])\n",
    "        prediction[prediction < 0] = 0\n",
    "        prediction[prediction > 5] = 5\n",
    "        return prediction\n",
    "    \n",
    "    def get_prediction_topk(self, rating_matrix, similarity, based_on='user', k=5):\n",
    "        prediction = np.zeros(rating_matrix.shape)\n",
    "        if based_on == 'user':\n",
    "            rating_mean = rating_matrix.sum(axis=1) / (rating_matrix>0).sum(axis=1)\n",
    "            for u in xrange(rating_matrix.shape[0]):\n",
    "                topk_users_index = [np.argsort(similarity[u,:])[:-k-1:-1]]\n",
    "                topk_similarity = similarity[u, :][topk_users_index]\n",
    "                topk_similarity = topk_similarity[np.newaxis, :]\n",
    "                rating_diff = (rating_matrix[topk_users_index, :] - rating_mean[topk_users_index, np.newaxis])[0]\n",
    "                prediction[u, :] = rating_mean[u] + topk_similarity.dot(rating_diff) / np.abs(topk_similarity).sum(axis=1)\n",
    "        \n",
    "        elif based_on == 'item':\n",
    "            print 'Lack of memory...'\n",
    "#             for i in xrange(rating_matrix.shape[1]):\n",
    "#                 topk_movies_index = [np.argsort(similarity[:, i])[:-k-1:-1]]\n",
    "#                 topk_similarity = similarity[:, i][topk_movies_index]\n",
    "#                 topk_similarity = topk_similarity[:, np.newaxis]\n",
    "#                 prediction[:, i] = rating_matrix[:, topk_movies_index].dot(topk_similarity) / np.abs(topk_similarity).sum(axis=0)\n",
    "        prediction[prediction < 0] = 0\n",
    "        prediction[prediction > 5] = 5\n",
    "        return prediction\n",
    "    \n",
    "    def get_evaluation(self, rating_matrix, prediction, type='mae'):\n",
    "        real = rating_matrix[rating_matrix.nonzero()].flatten()\n",
    "        prediction = prediction[rating_matrix.nonzero()].flatten()\n",
    "        if type == 'mae':\n",
    "            return mean_absolute_error(real, prediction)\n",
    "        elif type == 'mse':\n",
    "            return mean_squared_error(real, prediction)\n",
    "            "
   ]
  },
  {
   "cell_type": "markdown",
   "metadata": {},
   "source": [
    "### Basic CF v.s. TopK CF(based on users)"
   ]
  },
  {
   "cell_type": "code",
   "execution_count": 17,
   "metadata": {},
   "outputs": [
    {
     "name": "stdout",
     "output_type": "stream",
     "text": [
      "User-based CF baseVer MAE:  3.32\n",
      "User-based CF topkVer MAE:  2.23\n"
     ]
    }
   ],
   "source": [
    "user_cf = CF()\n",
    "similarity = user_cf.get_similarity(rating_matrix_train, based_on='user')\n",
    "prediction_base = user_cf.get_prediction(rating_matrix_test, similarity, based_on='user')\n",
    "prediction_topk = user_cf.get_prediction_topk(rating_matrix_test, similarity, based_on='user', k=5)\n",
    "\n",
    "mae_base = user_cf.get_evaluation(rating_matrix_test, prediction_base, type='mae')\n",
    "mae_topk = user_cf.get_evaluation(rating_matrix_test, prediction_topk, type='mae')\n",
    "\n",
    "print 'User-based CF baseVer MAE: {0: .2f}'.format(mae_base)\n",
    "print 'User-based CF topkVer MAE: {0: .2f}'.format(mae_topk)"
   ]
  },
  {
   "cell_type": "markdown",
   "metadata": {},
   "source": [
    "### Choose K "
   ]
  },
  {
   "cell_type": "code",
   "execution_count": 21,
   "metadata": {},
   "outputs": [
    {
     "name": "stdout",
     "output_type": "stream",
     "text": [
      "Top 5-Users-based CF MAE:  2.23\n",
      "Top 10-Users-based CF MAE:  2.70\n",
      "Top 25-Users-based CF MAE:  3.04\n",
      "Top 50-Users-based CF MAE:  3.18\n",
      "Top 100-Users-based CF MAE:  3.25\n"
     ]
    }
   ],
   "source": [
    "k_set = [5, 10, 25, 50, 100]\n",
    "for k in k_set:\n",
    "    prediction_topk = user_cf.get_prediction_topk(rating_matrix_test, similarity, based_on='user', k=k)\n",
    "    mae_topk = user_cf.get_evaluation(rating_matrix_test, prediction_topk, type='mae')\n",
    "    print 'Top{0: d}-Users-based CF MAE: {1: .2f}'.format(k, mae_topk)"
   ]
  },
  {
   "cell_type": "code",
   "execution_count": null,
   "metadata": {
    "collapsed": true
   },
   "outputs": [],
   "source": []
  }
 ],
 "metadata": {
  "kernelspec": {
   "display_name": "Python 2",
   "language": "python",
   "name": "python2"
  },
  "language_info": {
   "codemirror_mode": {
    "name": "ipython",
    "version": 2
   },
   "file_extension": ".py",
   "mimetype": "text/x-python",
   "name": "python",
   "nbconvert_exporter": "python",
   "pygments_lexer": "ipython2",
   "version": "2.7.13"
  }
 },
 "nbformat": 4,
 "nbformat_minor": 2
}
